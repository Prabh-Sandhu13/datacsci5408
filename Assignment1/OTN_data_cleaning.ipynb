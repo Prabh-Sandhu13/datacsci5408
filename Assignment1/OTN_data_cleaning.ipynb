{
 "cells": [
  {
   "cell_type": "code",
   "execution_count": 5,
   "metadata": {},
   "outputs": [],
   "source": [
    "import numpy as np\n",
    "import matplotlib.pyplot as plt\n",
    "import pandas as pd"
   ]
  },
  {
   "cell_type": "code",
   "execution_count": 6,
   "metadata": {
    "scrolled": true
   },
   "outputs": [
    {
     "name": "stdout",
     "output_type": "stream",
     "text": [
      "(3810, 17)\n"
     ]
    },
    {
     "data": {
      "text/plain": [
       "animal_project_reference       1\n",
       "datacenter_reference           1\n",
       "animal_reference_id            1\n",
       "animal_guid                    1\n",
       "vernacularname                 1\n",
       "scientificname                 1\n",
       "taxonrank                   3810\n",
       "aphiaid                        1\n",
       "tsn                            1\n",
       "animal_origin                 13\n",
       "stock                        164\n",
       "length                       119\n",
       "length_type                  117\n",
       "weight                       738\n",
       "life_stage                  3299\n",
       "age                         3660\n",
       "sex                         3324\n",
       "dtype: int64"
      ]
     },
     "execution_count": 6,
     "metadata": {},
     "output_type": "execute_result"
    }
   ],
   "source": [
    "animals = pd.read_csv('otn_public_data_dump/otnunit_aat_animals_8dc3_4d15_c278.csv')\n",
    "print(animals.shape)\n",
    "animals.isnull().sum()"
   ]
  },
  {
   "cell_type": "code",
   "execution_count": 7,
   "metadata": {},
   "outputs": [
    {
     "data": {
      "text/html": [
       "<div>\n",
       "<style scoped>\n",
       "    .dataframe tbody tr th:only-of-type {\n",
       "        vertical-align: middle;\n",
       "    }\n",
       "\n",
       "    .dataframe tbody tr th {\n",
       "        vertical-align: top;\n",
       "    }\n",
       "\n",
       "    .dataframe thead th {\n",
       "        text-align: right;\n",
       "    }\n",
       "</style>\n",
       "<table border=\"1\" class=\"dataframe\">\n",
       "  <thead>\n",
       "    <tr style=\"text-align: right;\">\n",
       "      <th></th>\n",
       "      <th>animal_project_reference</th>\n",
       "      <th>datacenter_reference</th>\n",
       "      <th>animal_reference_id</th>\n",
       "      <th>animal_guid</th>\n",
       "      <th>vernacularname</th>\n",
       "      <th>scientificname</th>\n",
       "      <th>taxonrank</th>\n",
       "      <th>aphiaid</th>\n",
       "      <th>tsn</th>\n",
       "      <th>animal_origin</th>\n",
       "      <th>stock</th>\n",
       "      <th>length</th>\n",
       "      <th>length_type</th>\n",
       "      <th>weight</th>\n",
       "      <th>life_stage</th>\n",
       "      <th>age</th>\n",
       "      <th>sex</th>\n",
       "    </tr>\n",
       "  </thead>\n",
       "  <tbody>\n",
       "    <tr>\n",
       "      <th>count</th>\n",
       "      <td>3809</td>\n",
       "      <td>3809</td>\n",
       "      <td>3809</td>\n",
       "      <td>3809</td>\n",
       "      <td>3809</td>\n",
       "      <td>3809</td>\n",
       "      <td>0.0</td>\n",
       "      <td>3809.000000</td>\n",
       "      <td>3809.000000</td>\n",
       "      <td>3797</td>\n",
       "      <td>3646</td>\n",
       "      <td>3691.000000</td>\n",
       "      <td>3693</td>\n",
       "      <td>3072.000000</td>\n",
       "      <td>511</td>\n",
       "      <td>150.000000</td>\n",
       "      <td>486</td>\n",
       "    </tr>\n",
       "    <tr>\n",
       "      <th>unique</th>\n",
       "      <td>14</td>\n",
       "      <td>2</td>\n",
       "      <td>3809</td>\n",
       "      <td>3809</td>\n",
       "      <td>17</td>\n",
       "      <td>16</td>\n",
       "      <td>NaN</td>\n",
       "      <td>NaN</td>\n",
       "      <td>NaN</td>\n",
       "      <td>3</td>\n",
       "      <td>19</td>\n",
       "      <td>NaN</td>\n",
       "      <td>3</td>\n",
       "      <td>NaN</td>\n",
       "      <td>4</td>\n",
       "      <td>NaN</td>\n",
       "      <td>3</td>\n",
       "    </tr>\n",
       "    <tr>\n",
       "      <th>top</th>\n",
       "      <td>MACFL</td>\n",
       "      <td>nep</td>\n",
       "      <td>MACFL-16131</td>\n",
       "      <td>nepMACFLMACFL-15884</td>\n",
       "      <td>Chinook salmon</td>\n",
       "      <td>Oncorhynchus tshawytscha</td>\n",
       "      <td>NaN</td>\n",
       "      <td>NaN</td>\n",
       "      <td>NaN</td>\n",
       "      <td>H</td>\n",
       "      <td>Central Valley Late-Fall</td>\n",
       "      <td>NaN</td>\n",
       "      <td>FORK</td>\n",
       "      <td>NaN</td>\n",
       "      <td>JUVENILE</td>\n",
       "      <td>NaN</td>\n",
       "      <td>U</td>\n",
       "    </tr>\n",
       "    <tr>\n",
       "      <th>freq</th>\n",
       "      <td>2257</td>\n",
       "      <td>3331</td>\n",
       "      <td>1</td>\n",
       "      <td>1</td>\n",
       "      <td>2437</td>\n",
       "      <td>2437</td>\n",
       "      <td>NaN</td>\n",
       "      <td>NaN</td>\n",
       "      <td>NaN</td>\n",
       "      <td>2992</td>\n",
       "      <td>2257</td>\n",
       "      <td>NaN</td>\n",
       "      <td>3649</td>\n",
       "      <td>NaN</td>\n",
       "      <td>453</td>\n",
       "      <td>NaN</td>\n",
       "      <td>341</td>\n",
       "    </tr>\n",
       "    <tr>\n",
       "      <th>mean</th>\n",
       "      <td>NaN</td>\n",
       "      <td>NaN</td>\n",
       "      <td>NaN</td>\n",
       "      <td>NaN</td>\n",
       "      <td>NaN</td>\n",
       "      <td>NaN</td>\n",
       "      <td>NaN</td>\n",
       "      <td>154462.559989</td>\n",
       "      <td>163201.938041</td>\n",
       "      <td>NaN</td>\n",
       "      <td>NaN</td>\n",
       "      <td>0.201176</td>\n",
       "      <td>NaN</td>\n",
       "      <td>0.345505</td>\n",
       "      <td>NaN</td>\n",
       "      <td>5.333333</td>\n",
       "      <td>NaN</td>\n",
       "    </tr>\n",
       "    <tr>\n",
       "      <th>std</th>\n",
       "      <td>NaN</td>\n",
       "      <td>NaN</td>\n",
       "      <td>NaN</td>\n",
       "      <td>NaN</td>\n",
       "      <td>NaN</td>\n",
       "      <td>NaN</td>\n",
       "      <td>NaN</td>\n",
       "      <td>37329.310629</td>\n",
       "      <td>28931.395983</td>\n",
       "      <td>NaN</td>\n",
       "      <td>NaN</td>\n",
       "      <td>0.208734</td>\n",
       "      <td>NaN</td>\n",
       "      <td>2.474357</td>\n",
       "      <td>NaN</td>\n",
       "      <td>6.148789</td>\n",
       "      <td>NaN</td>\n",
       "    </tr>\n",
       "    <tr>\n",
       "      <th>min</th>\n",
       "      <td>NaN</td>\n",
       "      <td>NaN</td>\n",
       "      <td>NaN</td>\n",
       "      <td>NaN</td>\n",
       "      <td>NaN</td>\n",
       "      <td>NaN</td>\n",
       "      <td>NaN</td>\n",
       "      <td>105792.000000</td>\n",
       "      <td>98675.000000</td>\n",
       "      <td>NaN</td>\n",
       "      <td>NaN</td>\n",
       "      <td>0.104000</td>\n",
       "      <td>NaN</td>\n",
       "      <td>0.012150</td>\n",
       "      <td>NaN</td>\n",
       "      <td>1.000000</td>\n",
       "      <td>NaN</td>\n",
       "    </tr>\n",
       "    <tr>\n",
       "      <th>25%</th>\n",
       "      <td>NaN</td>\n",
       "      <td>NaN</td>\n",
       "      <td>NaN</td>\n",
       "      <td>NaN</td>\n",
       "      <td>NaN</td>\n",
       "      <td>NaN</td>\n",
       "      <td>NaN</td>\n",
       "      <td>127186.000000</td>\n",
       "      <td>161980.000000</td>\n",
       "      <td>NaN</td>\n",
       "      <td>NaN</td>\n",
       "      <td>0.148000</td>\n",
       "      <td>NaN</td>\n",
       "      <td>0.035300</td>\n",
       "      <td>NaN</td>\n",
       "      <td>1.000000</td>\n",
       "      <td>NaN</td>\n",
       "    </tr>\n",
       "    <tr>\n",
       "      <th>50%</th>\n",
       "      <td>NaN</td>\n",
       "      <td>NaN</td>\n",
       "      <td>NaN</td>\n",
       "      <td>NaN</td>\n",
       "      <td>NaN</td>\n",
       "      <td>NaN</td>\n",
       "      <td>NaN</td>\n",
       "      <td>158075.000000</td>\n",
       "      <td>161980.000000</td>\n",
       "      <td>NaN</td>\n",
       "      <td>NaN</td>\n",
       "      <td>0.159000</td>\n",
       "      <td>NaN</td>\n",
       "      <td>0.042600</td>\n",
       "      <td>NaN</td>\n",
       "      <td>1.000000</td>\n",
       "      <td>NaN</td>\n",
       "    </tr>\n",
       "    <tr>\n",
       "      <th>75%</th>\n",
       "      <td>NaN</td>\n",
       "      <td>NaN</td>\n",
       "      <td>NaN</td>\n",
       "      <td>NaN</td>\n",
       "      <td>NaN</td>\n",
       "      <td>NaN</td>\n",
       "      <td>NaN</td>\n",
       "      <td>158075.000000</td>\n",
       "      <td>161980.000000</td>\n",
       "      <td>NaN</td>\n",
       "      <td>NaN</td>\n",
       "      <td>0.174000</td>\n",
       "      <td>NaN</td>\n",
       "      <td>0.054625</td>\n",
       "      <td>NaN</td>\n",
       "      <td>14.000000</td>\n",
       "      <td>NaN</td>\n",
       "    </tr>\n",
       "    <tr>\n",
       "      <th>max</th>\n",
       "      <td>NaN</td>\n",
       "      <td>NaN</td>\n",
       "      <td>NaN</td>\n",
       "      <td>NaN</td>\n",
       "      <td>NaN</td>\n",
       "      <td>NaN</td>\n",
       "      <td>NaN</td>\n",
       "      <td>452271.000000</td>\n",
       "      <td>630243.000000</td>\n",
       "      <td>NaN</td>\n",
       "      <td>NaN</td>\n",
       "      <td>1.854200</td>\n",
       "      <td>NaN</td>\n",
       "      <td>40.460000</td>\n",
       "      <td>NaN</td>\n",
       "      <td>14.000000</td>\n",
       "      <td>NaN</td>\n",
       "    </tr>\n",
       "  </tbody>\n",
       "</table>\n",
       "</div>"
      ],
      "text/plain": [
       "       animal_project_reference datacenter_reference animal_reference_id  \\\n",
       "count                      3809                 3809                3809   \n",
       "unique                       14                    2                3809   \n",
       "top                       MACFL                  nep         MACFL-16131   \n",
       "freq                       2257                 3331                   1   \n",
       "mean                        NaN                  NaN                 NaN   \n",
       "std                         NaN                  NaN                 NaN   \n",
       "min                         NaN                  NaN                 NaN   \n",
       "25%                         NaN                  NaN                 NaN   \n",
       "50%                         NaN                  NaN                 NaN   \n",
       "75%                         NaN                  NaN                 NaN   \n",
       "max                         NaN                  NaN                 NaN   \n",
       "\n",
       "                animal_guid  vernacularname            scientificname  \\\n",
       "count                  3809            3809                      3809   \n",
       "unique                 3809              17                        16   \n",
       "top     nepMACFLMACFL-15884  Chinook salmon  Oncorhynchus tshawytscha   \n",
       "freq                      1            2437                      2437   \n",
       "mean                    NaN             NaN                       NaN   \n",
       "std                     NaN             NaN                       NaN   \n",
       "min                     NaN             NaN                       NaN   \n",
       "25%                     NaN             NaN                       NaN   \n",
       "50%                     NaN             NaN                       NaN   \n",
       "75%                     NaN             NaN                       NaN   \n",
       "max                     NaN             NaN                       NaN   \n",
       "\n",
       "        taxonrank        aphiaid            tsn animal_origin  \\\n",
       "count         0.0    3809.000000    3809.000000          3797   \n",
       "unique        NaN            NaN            NaN             3   \n",
       "top           NaN            NaN            NaN             H   \n",
       "freq          NaN            NaN            NaN          2992   \n",
       "mean          NaN  154462.559989  163201.938041           NaN   \n",
       "std           NaN   37329.310629   28931.395983           NaN   \n",
       "min           NaN  105792.000000   98675.000000           NaN   \n",
       "25%           NaN  127186.000000  161980.000000           NaN   \n",
       "50%           NaN  158075.000000  161980.000000           NaN   \n",
       "75%           NaN  158075.000000  161980.000000           NaN   \n",
       "max           NaN  452271.000000  630243.000000           NaN   \n",
       "\n",
       "                           stock       length length_type       weight  \\\n",
       "count                       3646  3691.000000        3693  3072.000000   \n",
       "unique                        19          NaN           3          NaN   \n",
       "top     Central Valley Late-Fall          NaN        FORK          NaN   \n",
       "freq                        2257          NaN        3649          NaN   \n",
       "mean                         NaN     0.201176         NaN     0.345505   \n",
       "std                          NaN     0.208734         NaN     2.474357   \n",
       "min                          NaN     0.104000         NaN     0.012150   \n",
       "25%                          NaN     0.148000         NaN     0.035300   \n",
       "50%                          NaN     0.159000         NaN     0.042600   \n",
       "75%                          NaN     0.174000         NaN     0.054625   \n",
       "max                          NaN     1.854200         NaN    40.460000   \n",
       "\n",
       "       life_stage         age  sex  \n",
       "count         511  150.000000  486  \n",
       "unique          4         NaN    3  \n",
       "top      JUVENILE         NaN    U  \n",
       "freq          453         NaN  341  \n",
       "mean          NaN    5.333333  NaN  \n",
       "std           NaN    6.148789  NaN  \n",
       "min           NaN    1.000000  NaN  \n",
       "25%           NaN    1.000000  NaN  \n",
       "50%           NaN    1.000000  NaN  \n",
       "75%           NaN   14.000000  NaN  \n",
       "max           NaN   14.000000  NaN  "
      ]
     },
     "execution_count": 7,
     "metadata": {},
     "output_type": "execute_result"
    }
   ],
   "source": [
    "animals.describe(include=\"all\")"
   ]
  },
  {
   "cell_type": "code",
   "execution_count": 8,
   "metadata": {},
   "outputs": [
    {
     "name": "stdout",
     "output_type": "stream",
     "text": [
      "(3809, 16)\n"
     ]
    },
    {
     "data": {
      "text/plain": [
       "animal_project_reference       0\n",
       "datacenter_reference           0\n",
       "animal_reference_id            0\n",
       "animal_guid                    0\n",
       "vernacularname                 0\n",
       "scientificname                 0\n",
       "aphiaid                        0\n",
       "tsn                            0\n",
       "animal_origin                 12\n",
       "stock                        163\n",
       "length                       118\n",
       "length_type                  116\n",
       "weight                       737\n",
       "life_stage                  3298\n",
       "age                         3659\n",
       "sex                         3323\n",
       "dtype: int64"
      ]
     },
     "execution_count": 8,
     "metadata": {},
     "output_type": "execute_result"
    }
   ],
   "source": [
    "animals.dropna(axis=0, how='all', thresh=None, subset=None, inplace=True)\n",
    "animals.dropna(axis=1, how='all', thresh=None, subset=None, inplace=True)\n",
    "print(animals.shape)\n",
    "animals.isnull().sum()"
   ]
  },
  {
   "cell_type": "code",
   "execution_count": 9,
   "metadata": {
    "scrolled": true
   },
   "outputs": [
    {
     "data": {
      "text/plain": [
       "animal_project_reference      14\n",
       "datacenter_reference           2\n",
       "animal_reference_id         3809\n",
       "animal_guid                 3809\n",
       "vernacularname                17\n",
       "scientificname                16\n",
       "aphiaid                       16\n",
       "tsn                           16\n",
       "animal_origin                  3\n",
       "stock                         19\n",
       "length                       262\n",
       "length_type                    3\n",
       "weight                       812\n",
       "life_stage                     4\n",
       "age                            2\n",
       "sex                            3\n",
       "dtype: int64"
      ]
     },
     "execution_count": 9,
     "metadata": {},
     "output_type": "execute_result"
    }
   ],
   "source": [
    "animals.nunique()"
   ]
  },
  {
   "cell_type": "code",
   "execution_count": 10,
   "metadata": {},
   "outputs": [
    {
     "name": "stdout",
     "output_type": "stream",
     "text": [
      "(3809, 5)\n"
     ]
    }
   ],
   "source": [
    "animals_mapping = animals[['animal_project_reference','datacenter_reference','animal_reference_id',\n",
    "                           'animal_guid','aphiaid']]\n",
    "print(animals_mapping.shape)\n",
    "animals_mapping.isnull().sum()\n",
    "animals_mapping.to_csv(\"otn_clean_data/animals_mapping.csv\")"
   ]
  },
  {
   "cell_type": "code",
   "execution_count": 11,
   "metadata": {},
   "outputs": [
    {
     "name": "stdout",
     "output_type": "stream",
     "text": [
      "(568, 9)\n"
     ]
    }
   ],
   "source": [
    "animals_details = animals[['animal_reference_id','animal_origin','stock',\n",
    "                           'length','length_type','weight','life_stage','age','sex']]\n",
    "animals_details = animals_details.dropna(axis=0, how='all', thresh=7, subset=None)\n",
    "print(animals_details.shape)\n",
    "animals_details['age'].fillna((animals_details['age'].mean()), inplace=True)\n",
    "animals_details = animals_details.apply(lambda x:x.fillna(x.value_counts().index[0]))\n",
    "animals_details.to_csv(\"otn_clean_data/animals_details.csv\")"
   ]
  },
  {
   "cell_type": "code",
   "execution_count": 200,
   "metadata": {},
   "outputs": [
    {
     "name": "stdout",
     "output_type": "stream",
     "text": [
      "(16, 4)\n"
     ]
    }
   ],
   "source": [
    "animals_naming = animals[['aphiaid','vernacularname','scientificname','tsn']]\n",
    "animals_naming = animals_naming.drop_duplicates()\n",
    "animals_naming = animals_naming.drop_duplicates(subset='aphiaid', keep='first')\n",
    "print(animals_naming.shape)\n",
    "animals_naming.nunique()\n",
    "animals_naming.to_csv(\"otn_clean_data/animals_naming.csv\")"
   ]
  },
  {
   "cell_type": "code",
   "execution_count": 138,
   "metadata": {},
   "outputs": [
    {
     "name": "stdout",
     "output_type": "stream",
     "text": [
      "(5, 20)\n"
     ]
    },
    {
     "data": {
      "text/plain": [
       "datacenter_reference                 1\n",
       "datacenter_name                      1\n",
       "datacenter_abstract                  1\n",
       "datacenter_citation                  1\n",
       "datacenter_pi                        1\n",
       "datacenter_pi_organization           1\n",
       "datacenter_pi_contact                1\n",
       "datacenter_infourl                   1\n",
       "datacenter_keywords                  1\n",
       "datacenter_keywords_vocabulary       1\n",
       "datacenter_doi                       1\n",
       "datacenter_license                   1\n",
       "datacenter_distribution_statement    5\n",
       "datacenter_date_modified             5\n",
       "datacenter_geospatial_lon_min        2\n",
       "datacenter_geospatial_lon_max        2\n",
       "datacenter_geospatial_lat_min        2\n",
       "datacenter_geospatial_lat_max        2\n",
       "time_coverage_start                  4\n",
       "time_coverage_end                    4\n",
       "dtype: int64"
      ]
     },
     "execution_count": 138,
     "metadata": {},
     "output_type": "execute_result"
    }
   ],
   "source": [
    "datacenter = pd.read_csv('otn_public_data_dump/otnunit_aat_datacenter_attributes_8a94_cefd_f8a3.csv')\n",
    "print(datacenter.shape)\n",
    "datacenter.isnull().sum()"
   ]
  },
  {
   "cell_type": "code",
   "execution_count": 141,
   "metadata": {},
   "outputs": [
    {
     "name": "stdout",
     "output_type": "stream",
     "text": [
      "(4, 16)\n"
     ]
    },
    {
     "data": {
      "text/plain": [
       "datacenter_reference              0\n",
       "datacenter_name                   0\n",
       "datacenter_abstract               0\n",
       "datacenter_citation               0\n",
       "datacenter_pi                     0\n",
       "datacenter_pi_organization        0\n",
       "datacenter_pi_contact             0\n",
       "datacenter_infourl                0\n",
       "datacenter_keywords               0\n",
       "datacenter_keywords_vocabulary    0\n",
       "datacenter_doi                    0\n",
       "datacenter_license                0\n",
       "datacenter_geospatial_lon_min     1\n",
       "datacenter_geospatial_lon_max     1\n",
       "datacenter_geospatial_lat_min     1\n",
       "datacenter_geospatial_lat_max     1\n",
       "dtype: int64"
      ]
     },
     "execution_count": 141,
     "metadata": {},
     "output_type": "execute_result"
    }
   ],
   "source": [
    "datacenter.dropna(axis=1, how='all', thresh=1, subset=None, inplace=True)\n",
    "datacenter.dropna(axis=0, how='all', thresh=3, subset=None, inplace=True)\n",
    "print(datacenter.shape)\n",
    "datacenter.isnull().sum()"
   ]
  },
  {
   "cell_type": "code",
   "execution_count": 142,
   "metadata": {},
   "outputs": [
    {
     "data": {
      "text/plain": [
       "datacenter_reference              4\n",
       "datacenter_name                   3\n",
       "datacenter_abstract               3\n",
       "datacenter_citation               3\n",
       "datacenter_pi                     1\n",
       "datacenter_pi_organization        1\n",
       "datacenter_pi_contact             1\n",
       "datacenter_infourl                1\n",
       "datacenter_keywords               1\n",
       "datacenter_keywords_vocabulary    1\n",
       "datacenter_doi                    1\n",
       "datacenter_license                3\n",
       "datacenter_geospatial_lon_min     3\n",
       "datacenter_geospatial_lon_max     3\n",
       "datacenter_geospatial_lat_min     3\n",
       "datacenter_geospatial_lat_max     3\n",
       "dtype: int64"
      ]
     },
     "execution_count": 142,
     "metadata": {},
     "output_type": "execute_result"
    }
   ],
   "source": [
    "datacenter.nunique()"
   ]
  },
  {
   "cell_type": "code",
   "execution_count": 203,
   "metadata": {},
   "outputs": [],
   "source": [
    "datacenter_details = datacenter[['datacenter_reference','datacenter_name','datacenter_abstract','datacenter_citation',\n",
    "                                'datacenter_pi','datacenter_geospatial_lon_min','datacenter_geospatial_lon_max',\n",
    "                                 'datacenter_geospatial_lat_min','datacenter_geospatial_lat_max']]\n",
    "\n",
    "datacenter_details.nunique()\n",
    "datacenter_details.to_csv(\"otn_clean_data/datacenter_details.csv\")"
   ]
  },
  {
   "cell_type": "code",
   "execution_count": 273,
   "metadata": {},
   "outputs": [
    {
     "data": {
      "text/plain": [
       "pi_name                1\n",
       "pi_organization        1\n",
       "pi_contact             1\n",
       "infourl                1\n",
       "keywords               1\n",
       "keywords_vocabulary    1\n",
       "doi                    1\n",
       "license                1\n",
       "dtype: int64"
      ]
     },
     "execution_count": 273,
     "metadata": {},
     "output_type": "execute_result"
    }
   ],
   "source": [
    "principal_investigator = pd.DataFrame()\n",
    "principal_investigator['pi_name']= datacenter['datacenter_pi']\n",
    "principal_investigator['pi_organization']= datacenter['datacenter_pi_organization']\n",
    "principal_investigator['pi_contact']= datacenter['datacenter_pi_contact']\n",
    "principal_investigator['infourl']= datacenter['datacenter_infourl']\n",
    "principal_investigator['keywords']= datacenter['datacenter_keywords']\n",
    "principal_investigator['keywords_vocabulary']= datacenter['datacenter_keywords_vocabulary']\n",
    "principal_investigator['doi']= datacenter['datacenter_doi']\n",
    "principal_investigator['license']= datacenter['datacenter_license']\n",
    "principal_investigator = principal_investigator.drop_duplicates(subset='pi_name', keep='first')\n",
    "principal_investigator.nunique()"
   ]
  },
  {
   "cell_type": "code",
   "execution_count": 67,
   "metadata": {},
   "outputs": [
    {
     "name": "stderr",
     "output_type": "stream",
     "text": [
      "/Library/Frameworks/Python.framework/Versions/3.8/lib/python3.8/site-packages/IPython/core/interactiveshell.py:3145: DtypeWarning: Columns (5,6,13,15,18,19) have mixed types.Specify dtype option on import or set low_memory=False.\n",
      "  has_raised = await self.run_ast_nodes(code_ast.body, cell_name,\n"
     ]
    },
    {
     "name": "stdout",
     "output_type": "stream",
     "text": [
      "(218979, 27)\n"
     ]
    },
    {
     "data": {
      "text/plain": [
       "detection_project_reference         1\n",
       "datacenter_reference                1\n",
       "detection_id                        1\n",
       "detection_guid                      1\n",
       "time                                0\n",
       "latitude                            0\n",
       "longitude                           0\n",
       "tracker_reference                   1\n",
       "detection_reference_id              1\n",
       "detection_reference_type            1\n",
       "transmitter_codespace               1\n",
       "transmitter_id                      1\n",
       "detection_transmittername           1\n",
       "detection_serial_number             1\n",
       "sensor_data                    215275\n",
       "sensor_data_units              215111\n",
       "receiver_log_id                218979\n",
       "deployment_id                       1\n",
       "detection_quality              213925\n",
       "depth                          218978\n",
       "position_data_source                1\n",
       "uncertainty_in_latitude        218979\n",
       "uncertainty_in_longitude       218979\n",
       "depth_data_source              218979\n",
       "uncertainty_in_depth           218979\n",
       "other_position_data            218979\n",
       "dataset_quality                218979\n",
       "dtype: int64"
      ]
     },
     "execution_count": 67,
     "metadata": {},
     "output_type": "execute_result"
    }
   ],
   "source": [
    "detections = pd.read_csv('otn_public_data_dump/otnunit_aat_detections_9062_5923_1394.csv')\n",
    "print(detections.shape)\n",
    "detections.isnull().sum()"
   ]
  },
  {
   "cell_type": "code",
   "execution_count": 213,
   "metadata": {},
   "outputs": [
    {
     "name": "stdout",
     "output_type": "stream",
     "text": [
      "(218978, 19)\n"
     ]
    },
    {
     "data": {
      "text/plain": [
       "detection_project_reference         0\n",
       "datacenter_reference                0\n",
       "detection_id                        0\n",
       "detection_guid                      0\n",
       "time                                0\n",
       "latitude                            0\n",
       "longitude                           0\n",
       "tracker_reference                   0\n",
       "detection_reference_id              0\n",
       "detection_reference_type            0\n",
       "transmitter_codespace               0\n",
       "transmitter_id                      0\n",
       "detection_transmittername           0\n",
       "detection_serial_number             0\n",
       "sensor_data                    215274\n",
       "sensor_data_units              215110\n",
       "deployment_id                       0\n",
       "detection_quality              213924\n",
       "position_data_source                0\n",
       "dtype: int64"
      ]
     },
     "execution_count": 213,
     "metadata": {},
     "output_type": "execute_result"
    }
   ],
   "source": [
    "detections.dropna(axis=0, how='all', thresh=5, subset=None, inplace=True)\n",
    "detections.dropna(axis=1, how='all', thresh=None, subset=None, inplace=True)\n",
    "print(detections.shape)\n",
    "detections.isnull().sum()"
   ]
  },
  {
   "cell_type": "code",
   "execution_count": 75,
   "metadata": {},
   "outputs": [
    {
     "data": {
      "text/plain": [
       "detection_project_reference        29\n",
       "datacenter_reference                2\n",
       "detection_id                   218978\n",
       "detection_guid                 218978\n",
       "time                           215785\n",
       "latitude                          708\n",
       "longitude                         697\n",
       "tracker_reference                  10\n",
       "detection_reference_id            617\n",
       "detection_reference_type            1\n",
       "transmitter_codespace               8\n",
       "transmitter_id                    659\n",
       "detection_transmittername         659\n",
       "detection_serial_number           775\n",
       "sensor_data                        95\n",
       "sensor_data_units                   3\n",
       "deployment_id                     718\n",
       "detection_quality                   1\n",
       "position_data_source                1\n",
       "dtype: int64"
      ]
     },
     "execution_count": 75,
     "metadata": {},
     "output_type": "execute_result"
    }
   ],
   "source": [
    "detections.nunique()"
   ]
  },
  {
   "cell_type": "code",
   "execution_count": 323,
   "metadata": {},
   "outputs": [],
   "source": [
    "detection_details = detections[['detection_id','detection_guid','detection_project_reference','datacenter_reference',\n",
    "                               'time','latitude','longitude','tracker_reference','detection_reference_id',\n",
    "                               'detection_reference_type','transmitter_id','sensor_data','sensor_data_units',\n",
    "                                'deployment_id','position_data_source']]\n",
    "detection_details.nunique()\n",
    "detection_details.to_csv(\"otn_clean_data/detection_details.csv\")"
   ]
  },
  {
   "cell_type": "code",
   "execution_count": 229,
   "metadata": {},
   "outputs": [],
   "source": [
    "transmitter = detections[['transmitter_id','transmitter_codespace','detection_transmittername',\n",
    "                          'detection_serial_number']]\n",
    "transmitter = transmitter.drop_duplicates(subset='transmitter_id', keep='first')\n",
    "transmitter.nunique()\n",
    "transmitter.to_csv(\"otn_clean_data/transmitter.csv\")"
   ]
  },
  {
   "cell_type": "code",
   "execution_count": 76,
   "metadata": {},
   "outputs": [
    {
     "name": "stdout",
     "output_type": "stream",
     "text": [
      "(8939, 9)\n"
     ]
    },
    {
     "data": {
      "text/plain": [
       "platform_project_reference       1\n",
       "datacenter_reference             1\n",
       "platform_reference_id            1\n",
       "platform_guid                    1\n",
       "platform_type                    1\n",
       "platform_depth                2262\n",
       "platform_name                    1\n",
       "latitude                        10\n",
       "longitude                       10\n",
       "dtype: int64"
      ]
     },
     "execution_count": 76,
     "metadata": {},
     "output_type": "execute_result"
    }
   ],
   "source": [
    "platforms = pd.read_csv('otn_public_data_dump/otnunit_aat_manmade_platform_0735_7c9f_329c.csv')\n",
    "print(platforms.shape)\n",
    "platforms.isnull().sum()"
   ]
  },
  {
   "cell_type": "code",
   "execution_count": 79,
   "metadata": {},
   "outputs": [
    {
     "name": "stdout",
     "output_type": "stream",
     "text": [
      "(8938, 9)\n"
     ]
    },
    {
     "data": {
      "text/plain": [
       "platform_project_reference       0\n",
       "datacenter_reference             0\n",
       "platform_reference_id            0\n",
       "platform_guid                    0\n",
       "platform_type                    0\n",
       "platform_depth                2261\n",
       "platform_name                    0\n",
       "latitude                        10\n",
       "longitude                       10\n",
       "dtype: int64"
      ]
     },
     "execution_count": 79,
     "metadata": {},
     "output_type": "execute_result"
    }
   ],
   "source": [
    "platforms.dropna(axis=0, how='all', thresh=3, subset=None, inplace=True)\n",
    "platforms.dropna(axis=1, how='all', thresh=None, subset=None, inplace=True)\n",
    "print(platforms.shape)\n",
    "platforms.isnull().sum()"
   ]
  },
  {
   "cell_type": "code",
   "execution_count": 80,
   "metadata": {},
   "outputs": [
    {
     "name": "stdout",
     "output_type": "stream",
     "text": [
      "(8938, 9)\n"
     ]
    },
    {
     "data": {
      "text/plain": [
       "platform_project_reference    8938\n",
       "datacenter_reference          8938\n",
       "platform_reference_id         8938\n",
       "platform_guid                 8938\n",
       "platform_type                 8938\n",
       "platform_depth                6677\n",
       "platform_name                 8938\n",
       "latitude                      8928\n",
       "longitude                     8928\n",
       "dtype: int64"
      ]
     },
     "execution_count": 80,
     "metadata": {},
     "output_type": "execute_result"
    }
   ],
   "source": [
    "print(platforms.shape)\n",
    "platforms.notnull().sum()"
   ]
  },
  {
   "cell_type": "code",
   "execution_count": 81,
   "metadata": {},
   "outputs": [
    {
     "data": {
      "text/plain": [
       "platform_project_reference     174\n",
       "datacenter_reference             3\n",
       "platform_reference_id         8845\n",
       "platform_guid                 8938\n",
       "platform_type                    3\n",
       "platform_depth                1301\n",
       "platform_name                 8845\n",
       "latitude                      7828\n",
       "longitude                     8009\n",
       "dtype: int64"
      ]
     },
     "execution_count": 81,
     "metadata": {},
     "output_type": "execute_result"
    }
   ],
   "source": [
    "platforms.nunique()"
   ]
  },
  {
   "cell_type": "code",
   "execution_count": 318,
   "metadata": {},
   "outputs": [],
   "source": [
    "platforms = platforms.apply(lambda x: x.astype(str).str.lower()).drop_duplicates(subset=['platform_reference_id'], keep='first')\n",
    "platforms = platforms.drop_duplicates(subset='platform_reference_id', keep='first')\n",
    "platforms.to_csv(\"otn_clean_data/platforms.csv\")"
   ]
  },
  {
   "cell_type": "code",
   "execution_count": 264,
   "metadata": {},
   "outputs": [
    {
     "name": "stdout",
     "output_type": "stream",
     "text": [
      "(301, 27)\n"
     ]
    },
    {
     "data": {
      "text/plain": [
       "project_reference                   1\n",
       "datacenter_reference                1\n",
       "project_name                        1\n",
       "project_abstract                    4\n",
       "project_citation                   13\n",
       "project_pi                         17\n",
       "project_pi_organization             1\n",
       "project_pi_contact                 17\n",
       "project_infourl                     4\n",
       "project_keywords                    1\n",
       "project_keywords_vocabulary         1\n",
       "project_references                301\n",
       "project_doi                       301\n",
       "project_license                     1\n",
       "project_distribution_statement    301\n",
       "project_date_modified             301\n",
       "project_datum                       1\n",
       "project_geospatial_lon_min          0\n",
       "project_geospatial_lon_max          0\n",
       "project_geospatial_lat_min          0\n",
       "project_geospatial_lat_max          0\n",
       "project_linestring                301\n",
       "geospatial_vertical_min           127\n",
       "geospatial_vertical_max           145\n",
       "geospatial_vertical_positive      301\n",
       "time_coverage_start               301\n",
       "time_coverage_end                 301\n",
       "dtype: int64"
      ]
     },
     "execution_count": 264,
     "metadata": {},
     "output_type": "execute_result"
    }
   ],
   "source": [
    "projects = pd.read_csv('otn_public_data_dump/otnunit_aat_project_attributes_f29c_fb21_23a3.csv')\n",
    "print(projects.shape)\n",
    "projects.isnull().sum()"
   ]
  },
  {
   "cell_type": "code",
   "execution_count": 265,
   "metadata": {},
   "outputs": [
    {
     "name": "stdout",
     "output_type": "stream",
     "text": [
      "(300, 19)\n"
     ]
    },
    {
     "data": {
      "text/plain": [
       "project_reference                0\n",
       "datacenter_reference             0\n",
       "project_name                     0\n",
       "project_abstract                 3\n",
       "project_citation                12\n",
       "project_pi                      16\n",
       "project_pi_organization          0\n",
       "project_pi_contact              16\n",
       "project_infourl                  3\n",
       "project_keywords                 0\n",
       "project_keywords_vocabulary      0\n",
       "project_license                  0\n",
       "project_datum                    0\n",
       "project_geospatial_lon_min       0\n",
       "project_geospatial_lon_max       0\n",
       "project_geospatial_lat_min       0\n",
       "project_geospatial_lat_max       0\n",
       "geospatial_vertical_min        126\n",
       "geospatial_vertical_max        144\n",
       "dtype: int64"
      ]
     },
     "execution_count": 265,
     "metadata": {},
     "output_type": "execute_result"
    }
   ],
   "source": [
    "projects.dropna(axis=0, how='all', thresh=5, subset=None, inplace=True)\n",
    "projects.dropna(axis=1, how='all', thresh=None, subset=None, inplace=True)\n",
    "print(projects.shape)\n",
    "projects.isnull().sum()"
   ]
  },
  {
   "cell_type": "code",
   "execution_count": 266,
   "metadata": {},
   "outputs": [
    {
     "data": {
      "text/plain": [
       "project_reference              300\n",
       "datacenter_reference             3\n",
       "project_name                   298\n",
       "project_abstract               216\n",
       "project_citation               269\n",
       "project_pi                     186\n",
       "project_pi_organization        137\n",
       "project_pi_contact             190\n",
       "project_infourl                289\n",
       "project_keywords                13\n",
       "project_keywords_vocabulary      1\n",
       "project_license                  1\n",
       "project_datum                    1\n",
       "project_geospatial_lon_min     294\n",
       "project_geospatial_lon_max     287\n",
       "project_geospatial_lat_min     295\n",
       "project_geospatial_lat_max     296\n",
       "geospatial_vertical_min          1\n",
       "geospatial_vertical_max         90\n",
       "dtype: int64"
      ]
     },
     "execution_count": 266,
     "metadata": {},
     "output_type": "execute_result"
    }
   ],
   "source": [
    "projects.nunique()"
   ]
  },
  {
   "cell_type": "code",
   "execution_count": 267,
   "metadata": {},
   "outputs": [],
   "source": [
    "project_details = projects[['project_reference','datacenter_reference','project_name','project_abstract',\n",
    "                            'project_citation', 'project_pi' ,'project_datum','project_geospatial_lon_min',\n",
    "                            'project_geospatial_lon_max','project_geospatial_lat_min','project_geospatial_lat_max',\n",
    "                           'geospatial_vertical_min','geospatial_vertical_max']]\n",
    "project_details.to_csv(\"otn_clean_data/project_details.csv\")"
   ]
  },
  {
   "cell_type": "code",
   "execution_count": 276,
   "metadata": {},
   "outputs": [
    {
     "data": {
      "text/plain": [
       "(187, 8)"
      ]
     },
     "execution_count": 276,
     "metadata": {},
     "output_type": "execute_result"
    }
   ],
   "source": [
    "principal_investigator1 = pd.DataFrame()\n",
    "principal_investigator1['pi_name']= projects['project_pi']\n",
    "principal_investigator1['pi_organization']= projects['project_pi_organization']\n",
    "principal_investigator1['pi_contact']= projects['project_pi_contact']\n",
    "principal_investigator1['infourl']= projects['project_infourl']\n",
    "principal_investigator1['keywords']= projects['project_keywords']\n",
    "principal_investigator1['keywords_vocabulary']= projects['project_keywords_vocabulary']\n",
    "principal_investigator1['license']= projects['project_license']\n",
    "principal_investigator1 = principal_investigator1.drop_duplicates(subset='pi_name', keep='first')\n",
    "principal_investigator1 = principal_investigator1.dropna(axis=0, subset=['pi_name'])\n",
    "principal_investigator3 = pd.concat([principal_investigator1,principal_investigator])\n",
    "principal_investigator3.to_csv(\"otn_clean_data/principal_investigator.csv\")\n",
    "principal_investigator3.shape"
   ]
  },
  {
   "cell_type": "code",
   "execution_count": 110,
   "metadata": {},
   "outputs": [
    {
     "name": "stdout",
     "output_type": "stream",
     "text": [
      "(18787, 21)\n"
     ]
    },
    {
     "data": {
      "text/plain": [
       "deployment_project_reference        1\n",
       "datacenter_reference                1\n",
       "deployment_id                       1\n",
       "deployment_guid                     1\n",
       "receiver_manufacturer             801\n",
       "receiver_model                      1\n",
       "frequencies_monitored           18787\n",
       "receiver_coding_scheme          18787\n",
       "receiver_serial_number              3\n",
       "latitude                            1\n",
       "longitude                           1\n",
       "time                                0\n",
       "recovery_datetime_utc            3409\n",
       "array_name                          1\n",
       "receiver_reference_type             1\n",
       "receiver_reference_id               7\n",
       "bottom_depth                     4286\n",
       "depth                            4956\n",
       "deployment_comments             15526\n",
       "deployed_by                     18787\n",
       "expected_receiver_life          18787\n",
       "dtype: int64"
      ]
     },
     "execution_count": 110,
     "metadata": {},
     "output_type": "execute_result"
    }
   ],
   "source": [
    "receivers = pd.read_csv('otn_public_data_dump/otnunit_aat_receivers_c595_05f4_68b2.csv')\n",
    "print(receivers.shape)\n",
    "receivers.isnull().sum()"
   ]
  },
  {
   "cell_type": "code",
   "execution_count": 111,
   "metadata": {},
   "outputs": [
    {
     "name": "stdout",
     "output_type": "stream",
     "text": [
      "(18786, 17)\n"
     ]
    },
    {
     "data": {
      "text/plain": [
       "deployment_project_reference        0\n",
       "datacenter_reference                0\n",
       "deployment_id                       0\n",
       "deployment_guid                     0\n",
       "receiver_manufacturer             800\n",
       "receiver_model                      0\n",
       "receiver_serial_number              2\n",
       "latitude                            1\n",
       "longitude                           1\n",
       "time                                0\n",
       "recovery_datetime_utc            3409\n",
       "array_name                          0\n",
       "receiver_reference_type             0\n",
       "receiver_reference_id               6\n",
       "bottom_depth                     4286\n",
       "depth                            4956\n",
       "deployment_comments             15525\n",
       "dtype: int64"
      ]
     },
     "execution_count": 111,
     "metadata": {},
     "output_type": "execute_result"
    }
   ],
   "source": [
    "receivers.dropna(axis=0, how='all', thresh=7, subset=None, inplace=True)\n",
    "receivers.dropna(axis=1, how='all', thresh=None, subset=None, inplace=True)\n",
    "print(receivers.shape)\n",
    "receivers.isnull().sum()"
   ]
  },
  {
   "cell_type": "code",
   "execution_count": 113,
   "metadata": {},
   "outputs": [
    {
     "data": {
      "text/plain": [
       "deployment_project_reference      173\n",
       "datacenter_reference                3\n",
       "deployment_id                   18785\n",
       "deployment_guid                 18786\n",
       "receiver_manufacturer              21\n",
       "receiver_model                     81\n",
       "receiver_serial_number           7036\n",
       "latitude                        13331\n",
       "longitude                       13644\n",
       "time                            15483\n",
       "recovery_datetime_utc           11930\n",
       "array_name                        173\n",
       "receiver_reference_type             1\n",
       "receiver_reference_id            8519\n",
       "bottom_depth                     2001\n",
       "depth                            1771\n",
       "deployment_comments              1570\n",
       "dtype: int64"
      ]
     },
     "execution_count": 113,
     "metadata": {},
     "output_type": "execute_result"
    }
   ],
   "source": [
    "receivers.nunique()"
   ]
  },
  {
   "cell_type": "code",
   "execution_count": 294,
   "metadata": {},
   "outputs": [
    {
     "data": {
      "text/plain": [
       "deployment_project_reference      173\n",
       "datacenter_reference                3\n",
       "deployment_id                   18785\n",
       "deployment_guid                 18785\n",
       "receiver_serial_number           7036\n",
       "latitude                        13330\n",
       "longitude                       13643\n",
       "time                            15483\n",
       "recovery_datetime_utc           11930\n",
       "array_name                        173\n",
       "receiver_reference_type             1\n",
       "receiver_reference_id            8518\n",
       "bottom_depth                     2001\n",
       "depth                            1771\n",
       "dtype: int64"
      ]
     },
     "execution_count": 294,
     "metadata": {},
     "output_type": "execute_result"
    }
   ],
   "source": [
    "reciever_details = receivers[['deployment_project_reference','datacenter_reference','deployment_id','deployment_guid',\n",
    "                             'receiver_serial_number','latitude','longitude','time','recovery_datetime_utc',\n",
    "                              'array_name','receiver_reference_type','receiver_reference_id','bottom_depth',\n",
    "                              'depth']]\n",
    "reciever_details = reciever_details.drop_duplicates(subset='deployment_id', keep='first')\n",
    "reciever_details.to_csv(\"otn_clean_data/reciever_details.csv\")\n",
    "reciever_details.nunique()"
   ]
  },
  {
   "cell_type": "code",
   "execution_count": 293,
   "metadata": {},
   "outputs": [
    {
     "data": {
      "text/plain": [
       "(7036, 3)"
      ]
     },
     "execution_count": 293,
     "metadata": {},
     "output_type": "execute_result"
    }
   ],
   "source": [
    "models = pd.DataFrame()\n",
    "models['serial_number'] = receivers['receiver_serial_number']\n",
    "models['manufacturer'] = receivers['receiver_manufacturer']\n",
    "models['model'] = receivers['receiver_model']\n",
    "models = models.drop_duplicates(subset='serial_number', keep='first')\n",
    "models = models.dropna(axis=0, subset=['serial_number'])\n",
    "models.shape"
   ]
  },
  {
   "cell_type": "code",
   "execution_count": 109,
   "metadata": {},
   "outputs": [
    {
     "name": "stdout",
     "output_type": "stream",
     "text": [
      "(37204, 15)\n"
     ]
    },
    {
     "data": {
      "text/plain": [
       "recovery_project_reference        1\n",
       "datacenter_reference              1\n",
       "recovery_id                       1\n",
       "deployment_id                    44\n",
       "recovery_guid                    44\n",
       "recovery_latitude               440\n",
       "recovery_longitude              440\n",
       "recovery_datetime_utc         21826\n",
       "recovery_outcome                  1\n",
       "data_offloaded                    1\n",
       "offload_datetime_utc          22210\n",
       "log_filenames                 19394\n",
       "recovery_comments             30625\n",
       "clock_synchronized            37204\n",
       "recovered_by                  37204\n",
       "dtype: int64"
      ]
     },
     "execution_count": 109,
     "metadata": {},
     "output_type": "execute_result"
    }
   ],
   "source": [
    "recovery = pd.read_csv('otn_public_data_dump/otnunit_aat_recover_offload_details_4b23_f002_f89a.csv')\n",
    "print(recovery.shape)\n",
    "recovery.isnull().sum()"
   ]
  },
  {
   "cell_type": "code",
   "execution_count": 116,
   "metadata": {},
   "outputs": [
    {
     "name": "stdout",
     "output_type": "stream",
     "text": [
      "(37203, 13)\n"
     ]
    },
    {
     "data": {
      "text/plain": [
       "recovery_project_reference        0\n",
       "datacenter_reference              0\n",
       "recovery_id                       0\n",
       "deployment_id                    43\n",
       "recovery_guid                    43\n",
       "recovery_latitude               439\n",
       "recovery_longitude              439\n",
       "recovery_datetime_utc         21826\n",
       "recovery_outcome                  0\n",
       "data_offloaded                    0\n",
       "offload_datetime_utc          22210\n",
       "log_filenames                 19393\n",
       "recovery_comments             30624\n",
       "dtype: int64"
      ]
     },
     "execution_count": 116,
     "metadata": {},
     "output_type": "execute_result"
    }
   ],
   "source": [
    "recovery.dropna(axis=0, how='all', thresh=3, subset=None, inplace=True)\n",
    "recovery.dropna(axis=1, how='all', thresh=None, subset=None, inplace=True)\n",
    "print(recovery.shape)\n",
    "recovery.isnull().sum()"
   ]
  },
  {
   "cell_type": "code",
   "execution_count": 117,
   "metadata": {},
   "outputs": [
    {
     "data": {
      "text/plain": [
       "recovery_project_reference      166\n",
       "datacenter_reference              3\n",
       "recovery_id                   37201\n",
       "deployment_id                 16898\n",
       "recovery_guid                 37160\n",
       "recovery_latitude             12892\n",
       "recovery_longitude            13186\n",
       "recovery_datetime_utc         11930\n",
       "recovery_outcome                 25\n",
       "data_offloaded                    2\n",
       "offload_datetime_utc          12428\n",
       "log_filenames                 13048\n",
       "recovery_comments              2044\n",
       "dtype: int64"
      ]
     },
     "execution_count": 117,
     "metadata": {},
     "output_type": "execute_result"
    }
   ],
   "source": [
    "recovery.nunique()"
   ]
  },
  {
   "cell_type": "code",
   "execution_count": 322,
   "metadata": {},
   "outputs": [
    {
     "name": "stdout",
     "output_type": "stream",
     "text": [
      "recovery_project_reference      166\n",
      "datacenter_reference              3\n",
      "recovery_id                   37201\n",
      "deployment_id                 16898\n",
      "recovery_guid                 37158\n",
      "recovery_latitude             12892\n",
      "recovery_longitude            13186\n",
      "recovery_datetime_utc         11930\n",
      "recovery_outcome                 25\n",
      "data_offloaded                    2\n",
      "offload_datetime_utc          12427\n",
      "log_filenames                 13048\n",
      "recovery_comments              2044\n",
      "dtype: int64\n",
      "(37201, 13)\n"
     ]
    }
   ],
   "source": [
    "recovery = recovery.drop_duplicates(subset='recovery_id', keep='first')\n",
    "print(recovery.nunique())\n",
    "print(recovery.shape)\n",
    "recovery.to_csv(\"otn_clean_data/recovery.csv\")"
   ]
  },
  {
   "cell_type": "code",
   "execution_count": 320,
   "metadata": {},
   "outputs": [
    {
     "data": {
      "text/plain": [
       "(37201, 13)"
      ]
     },
     "execution_count": 320,
     "metadata": {},
     "output_type": "execute_result"
    }
   ],
   "source": [
    "recovery.shape"
   ]
  },
  {
   "cell_type": "code",
   "execution_count": 118,
   "metadata": {},
   "outputs": [
    {
     "name": "stdout",
     "output_type": "stream",
     "text": [
      "(3838, 19)\n"
     ]
    },
    {
     "data": {
      "text/plain": [
       "release_project_reference       1\n",
       "datacenter_reference            1\n",
       "tag_device_id                   1\n",
       "release_guid                    1\n",
       "release_reference_id            1\n",
       "release_reference_type          1\n",
       "latitude                        0\n",
       "longitude                       0\n",
       "time                            0\n",
       "expected_enddate                0\n",
       "manufacturer                    1\n",
       "tag_model                       1\n",
       "tag_serial_number               1\n",
       "tag_frequency                3838\n",
       "tag_coding_system               1\n",
       "transmitted_id                  1\n",
       "transmittername                 1\n",
       "transmitter_type             3838\n",
       "tag_programming_id           3838\n",
       "dtype: int64"
      ]
     },
     "execution_count": 118,
     "metadata": {},
     "output_type": "execute_result"
    }
   ],
   "source": [
    "tag_release = pd.read_csv('otn_public_data_dump/otnunit_aat_tag_releases_b793_03e7_a230.csv')\n",
    "print(tag_release.shape)\n",
    "tag_release.isnull().sum()"
   ]
  },
  {
   "cell_type": "code",
   "execution_count": 133,
   "metadata": {},
   "outputs": [
    {
     "name": "stdout",
     "output_type": "stream",
     "text": [
      "(3837, 16)\n"
     ]
    },
    {
     "data": {
      "text/plain": [
       "release_project_reference    0\n",
       "datacenter_reference         0\n",
       "tag_device_id                0\n",
       "release_guid                 0\n",
       "release_reference_id         0\n",
       "release_reference_type       0\n",
       "latitude                     0\n",
       "longitude                    0\n",
       "time                         0\n",
       "expected_enddate             0\n",
       "manufacturer                 0\n",
       "tag_model                    0\n",
       "tag_serial_number            0\n",
       "tag_coding_system            0\n",
       "transmitted_id               0\n",
       "transmittername              0\n",
       "dtype: int64"
      ]
     },
     "execution_count": 133,
     "metadata": {},
     "output_type": "execute_result"
    }
   ],
   "source": [
    "tag_release.dropna(axis=0, how='all', thresh=5, subset=None, inplace=True)\n",
    "tag_release.dropna(axis=1, how='all', thresh=None, subset=None, inplace=True)\n",
    "print(tag_release.shape)\n",
    "tag_release.isnull().sum()"
   ]
  },
  {
   "cell_type": "code",
   "execution_count": 134,
   "metadata": {},
   "outputs": [
    {
     "data": {
      "text/plain": [
       "release_project_reference      11\n",
       "datacenter_reference            2\n",
       "tag_device_id                3837\n",
       "release_guid                 3837\n",
       "release_reference_id         3686\n",
       "release_reference_type          2\n",
       "latitude                      114\n",
       "longitude                     116\n",
       "time                          434\n",
       "expected_enddate              453\n",
       "manufacturer                    2\n",
       "tag_model                      17\n",
       "tag_serial_number            3728\n",
       "tag_coding_system              14\n",
       "transmitted_id               3827\n",
       "transmittername              3837\n",
       "dtype: int64"
      ]
     },
     "execution_count": 134,
     "metadata": {},
     "output_type": "execute_result"
    }
   ],
   "source": [
    "tag_release.nunique()"
   ]
  },
  {
   "cell_type": "code",
   "execution_count": 301,
   "metadata": {},
   "outputs": [
    {
     "data": {
      "text/plain": [
       "release_project_reference      11\n",
       "datacenter_reference            2\n",
       "tag_device_id                3837\n",
       "release_guid                 3837\n",
       "release_reference_id         3686\n",
       "release_reference_type          2\n",
       "latitude                      114\n",
       "longitude                     116\n",
       "time                          434\n",
       "expected_enddate              453\n",
       "tag_serial_number            3728\n",
       "tag_coding_system              14\n",
       "transmitted_id               3827\n",
       "dtype: int64"
      ]
     },
     "execution_count": 301,
     "metadata": {},
     "output_type": "execute_result"
    }
   ],
   "source": [
    "tag_release_info = tag_release[['release_project_reference','datacenter_reference','tag_device_id','release_guid',\n",
    "                               'release_reference_id','release_reference_type','latitude','longitude','time',\n",
    "                                'expected_enddate','tag_serial_number','tag_coding_system','transmitted_id']]\n",
    "tag_release_info.to_csv(\"otn_clean_data/tag_release_info.csv\")\n",
    "tag_release_info.nunique()"
   ]
  },
  {
   "cell_type": "code",
   "execution_count": 316,
   "metadata": {},
   "outputs": [
    {
     "name": "stdout",
     "output_type": "stream",
     "text": [
      "(10764, 3)\n"
     ]
    },
    {
     "data": {
      "text/plain": [
       "10742"
      ]
     },
     "execution_count": 316,
     "metadata": {},
     "output_type": "execute_result"
    }
   ],
   "source": [
    "models2 = pd.DataFrame()\n",
    "models2['serial_number'] = tag_release['tag_serial_number']\n",
    "models2['manufacturer'] = tag_release['manufacturer']\n",
    "models2['model'] = tag_release['tag_model']\n",
    "# models2 = models2.drop_duplicates(subset='serial_number', keep='first')\n",
    "# models2 = models2.dropna(axis=0, subset=['serial_number'])\n",
    "models3 = pd.concat([models2,models])\n",
    "models3 = models3.drop_duplicates(subset='serial_number', keep='first')\n",
    "models3 = models3.dropna(axis=0, subset=['serial_number'])\n",
    "models3.to_csv(\"otn_clean_data/models.csv\")\n",
    "print(models3.shape)\n",
    "models3.nunique()\n",
    "models3.duplicated(subset='manufacturer').sum()"
   ]
  }
 ],
 "metadata": {
  "kernelspec": {
   "display_name": "Python 3",
   "language": "python",
   "name": "python3"
  },
  "language_info": {
   "codemirror_mode": {
    "name": "ipython",
    "version": 3
   },
   "file_extension": ".py",
   "mimetype": "text/x-python",
   "name": "python",
   "nbconvert_exporter": "python",
   "pygments_lexer": "ipython3",
   "version": "3.8.5"
  }
 },
 "nbformat": 4,
 "nbformat_minor": 4
}
