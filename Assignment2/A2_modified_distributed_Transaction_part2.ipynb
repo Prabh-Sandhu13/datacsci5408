{
 "cells": [
  {
   "cell_type": "code",
   "execution_count": 93,
   "metadata": {},
   "outputs": [],
   "source": [
    "import mysql.connector \n",
    "\n",
    "cnx1 = mysql.connector.connect(user='root', password='1234prabh',\n",
    "                              host='localhost',\n",
    "                              database='Data5408A2',auth_plugin='mysql_native_password')\n",
    "cnx2 = mysql.connector.connect(user='root', password='S@ndhu13**',\n",
    "                              host='35.203.39.105',\n",
    "                              database='Data5408A2',auth_plugin='mysql_native_password')\n",
    "\n",
    "cnx3 = mysql.connector.connect(user='root', password='1234prabh',\n",
    "                              host='localhost',\n",
    "                              database='Data5408A2',auth_plugin='mysql_native_password')\n",
    "cnx4 = mysql.connector.connect(user='root', password='S@ndhu13**',\n",
    "                              host='35.203.39.105',\n",
    "                              database='Data5408A2',auth_plugin='mysql_native_password')\n"
   ]
  },
  {
   "cell_type": "code",
   "execution_count": 94,
   "metadata": {},
   "outputs": [],
   "source": [
    "def transaction1(name):\n",
    "    logging.info(\"Thread %s: starting\", name)\n",
    "    \n",
    "    query1 =\"update customer_details set customer_city='T1 City' where customer_zip_code_prefix='01151';\"\n",
    "    query2 =\"update geolocation set geolocation_city='T1 City' where geolocation_zip_code_prefix='1037';\"\n",
    "    query3 =\"update orders set order_status='T1' where order_id='e481f51cbdc54678b7cc49136f2d6af7';\"\n",
    "    query4 =\"update products set product_category_name='T1' where product_id='1e9e8ef04dbcff4541ed26657ea517e5';\"\n",
    "    query5 =\"update sellers set seller_city='T1 City' where seller_id='3442f8959a84dea7ee197c632cb2df15'\"\n",
    "    \n",
    "    Transaction1_local = cnx1.cursor()\n",
    "    Transaction1_remote = cnx2.cursor()\n",
    "    \n",
    "    Transaction1_local.execute(\"START TRANSACTION;\")\n",
    "    Transaction1_remote.execute(\"START TRANSACTION;\")\n",
    "    \n",
    "\n",
    "    Transaction1_local.execute(query1)\n",
    "    print(Transaction1_local.rowcount, \"record(s) affected: Thread1,query1\")\n",
    "    \n",
    "    Transaction1_local.execute(query2)\n",
    "    print(Transaction1_local.rowcount, \"record(s) affected: Thread1,query2\")\n",
    "    \n",
    "    Transaction1_remote.execute(query3)\n",
    "    print(Transaction1_remote.rowcount, \"record(s) affected: Thread1,query3\")\n",
    "    \n",
    "    Transaction1_remote.execute(query4)\n",
    "    print(Transaction1_remote.rowcount, \"record(s) affected: Thread1,query4\")\n",
    "    \n",
    "    Transaction1_remote.execute(query5)\n",
    "    print(Transaction1_remote.rowcount, \"record(s) affected: Thread1,query5\")\n",
    "    \n",
    "    \n",
    "    Transaction1_local.execute('COMMIT;')\n",
    "    Transaction1_remote.execute('COMMIT;')\n",
    "    \n",
    "    print(\"Transaction 1 committed!\")\n",
    "    \n",
    "    logging.info(\"Thread %s: finishing\", name)"
   ]
  },
  {
   "cell_type": "code",
   "execution_count": 95,
   "metadata": {},
   "outputs": [],
   "source": [
    "def transaction2(name):\n",
    "    logging.info(\"Thread %s: starting\", name)\n",
    "    \n",
    "    query1 =\"update customer_details set customer_city='T2 City' where customer_zip_code_prefix='01151'\"\n",
    "    query2 =\"update geolocation set geolocation_city='T2 City' where geolocation_zip_code_prefix='1037';\"\n",
    "    query3 =\"update orders set order_status='T2' where order_id='e481f51cbdc54678b7cc49136f2d6af7';\"\n",
    "    query4 =\"update products set product_category_name='T2' where product_id='1e9e8ef04dbcff4541ed26657ea517e5';\"\n",
    "    query5 =\"update sellers set seller_city='T2 City' where seller_id='3442f8959a84dea7ee197c632cb2df15'\"\n",
    "    \n",
    "    Transaction2_local = cnx3.cursor()\n",
    "    Transaction2_remote = cnx4.cursor()\n",
    "    \n",
    "    Transaction2_local.execute(\"START TRANSACTION;\")\n",
    "    Transaction2_remote.execute(\"START TRANSACTION;\")\n",
    "    \n",
    "\n",
    "    Transaction2_local.execute(query1)\n",
    "    print(Transaction2_local.rowcount, \"record(s) affected: Thread2,query1\")\n",
    "    \n",
    "    Transaction2_local.execute(query2)\n",
    "    print(Transaction2_local.rowcount, \"record(s) affected: Thread2,query2\")\n",
    "    \n",
    "    Transaction2_remote.execute(query3)\n",
    "    print(Transaction2_remote.rowcount, \"record(s) affected: Thread2,query3\")\n",
    "    \n",
    "    Transaction2_remote.execute(query4)\n",
    "    print(Transaction2_remote.rowcount, \"record(s) affected: Thread2,query4\")\n",
    "    \n",
    "    Transaction2_remote.execute(query5)\n",
    "    print(Transaction2_remote.rowcount, \"record(s) affected: Thread2,query5\")\n",
    "    \n",
    "    \n",
    "    Transaction2_local.execute('COMMIT;')\n",
    "    Transaction2_remote.execute('COMMIT;')\n",
    "    \n",
    "    print(\"Transaction 2 committed!\")\n",
    "    \n",
    "    logging.info(\"Thread %s: finishing\", name)"
   ]
  },
  {
   "cell_type": "code",
   "execution_count": 96,
   "metadata": {},
   "outputs": [
    {
     "name": "stderr",
     "output_type": "stream",
     "text": [
      "15:22:08: Thread 1: starting\n",
      "15:22:08: Thread 2: starting\n",
      "15:22:09: Thread 1: finishing\n"
     ]
    },
    {
     "name": "stdout",
     "output_type": "stream",
     "text": [
      "1 record(s) affected: Thread1,query1\n",
      "5 record(s) affected: Thread1,query2\n",
      "1 record(s) affected: Thread1,query3\n",
      "1 record(s) affected: Thread1,query4\n",
      "1 record(s) affected: Thread1,query5\n",
      "1 record(s) affected: Thread2,query1\n",
      "5 record(s) affected: Thread2,query2\n",
      "Transaction 1 committed!1\n",
      " record(s) affected: Thread2,query3\n",
      "1 record(s) affected: Thread2,query4\n",
      "1 record(s) affected: Thread2,query5\n"
     ]
    },
    {
     "name": "stderr",
     "output_type": "stream",
     "text": [
      "15:22:09: Thread 2: finishing\n"
     ]
    },
    {
     "name": "stdout",
     "output_type": "stream",
     "text": [
      "Transaction 2 committed!\n"
     ]
    }
   ],
   "source": [
    "import logging\n",
    "import threading\n",
    "import time\n",
    "\n",
    "\n",
    "\n",
    "if __name__ == \"__main__\":\n",
    "    format = \"%(asctime)s: %(message)s\"\n",
    "    logging.basicConfig(format=format, level=logging.INFO,\n",
    "                        datefmt=\"%H:%M:%S\")\n",
    "    thread1 = threading.Thread(target=transaction1, args=(1,))\n",
    "    thread2 = threading.Thread(target=transaction2, args=(2,))\n",
    "    thread1.start()\n",
    "    thread2.start()"
   ]
  }
 ],
 "metadata": {
  "kernelspec": {
   "display_name": "Python 3",
   "language": "python",
   "name": "python3"
  },
  "language_info": {
   "codemirror_mode": {
    "name": "ipython",
    "version": 3
   },
   "file_extension": ".py",
   "mimetype": "text/x-python",
   "name": "python",
   "nbconvert_exporter": "python",
   "pygments_lexer": "ipython3",
   "version": "3.8.5"
  }
 },
 "nbformat": 4,
 "nbformat_minor": 4
}
